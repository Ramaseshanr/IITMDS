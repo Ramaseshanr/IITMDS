{
 "cells": [
  {
   "cell_type": "markdown",
   "id": "c0988c3a-1734-4566-8293-7d138aacdf6c",
   "metadata": {},
   "source": [
    "# Sample code for the workshop\n"
   ]
  },
  {
   "cell_type": "markdown",
   "id": "8ef36017-bbd9-4c82-9533-a815bfc38872",
   "metadata": {},
   "source": [
    "## Reading/downloading text available in various formats"
   ]
  },
  {
   "cell_type": "markdown",
   "id": "74c5f951-8c4b-4639-96ae-1cf254ac7e82",
   "metadata": {},
   "source": [
    "# Wiki dumps for various languages\n",
    "\n",
    "## Location of the wiki dump\n",
    "\n",
    "Bengali -  https://dumps.wikimedia.org/bnwiki/latest/bnwiki-latest-pages-articles.xml.bz2\n",
    "\n",
    "Hindi - https://dumps.wikimedia.org/hiwiki/latest/hiwiki-latest-pages-articles.xml.bz2\n",
    "\n",
    "Kannada - https://dumps.wikimedia.org/knwiki/latest/knwiki-latest-pages-articles.xml.bz2\n",
    "\n",
    "Malayalam - https://dumps.wikimedia.org/mlwiki/latest/mlwiki-latest-pages-articles.xml.bz2\n",
    "\n",
    "Marati - https://dumps.wikimedia.org/mrwiki/latest/mrwiki-latest-pages-articles.xml.bz2\n",
    "\n",
    "Tamil - https://dumps.wikimedia.org/tawiki/latest/tawiki-latest-pages-articles.xml.bz2\n",
    "\n",
    "Telugu - https://dumps.wikimedia.org/tewiki/latest/tewiki-latest-pages-articles.xml.bz2\n",
    "\n",
    "For any other language, replace the first two characters of the file name with the ISO code of that language\n",
    "\n",
    "### Use a bz2 extractor to extract XML dump of the articles "
   ]
  },
  {
   "cell_type": "markdown",
   "id": "4cbb8e9f-04bb-4580-b0c9-31c12cc11301",
   "metadata": {},
   "source": [
    "# use the following sample code to extract the dump\n",
    "\n",
    "Note: Intially try with 100 articles from the dump before extracting the entire XML data set"
   ]
  },
  {
   "cell_type": "code",
   "execution_count": 1,
   "id": "7d6e5590-4f6d-409f-8031-8642eac56998",
   "metadata": {},
   "outputs": [
    {
     "name": "stdout",
     "output_type": "stream",
     "text": [
      "Requirement already satisfied: wget in c:\\users\\hayagreev\\appdata\\local\\programs\\python\\python310\\lib\\site-packages (3.2)\n",
      "Note: you may need to restart the kernel to use updated packages.\n"
     ]
    },
    {
     "name": "stderr",
     "output_type": "stream",
     "text": [
      "WARNING: There was an error checking the latest version of pip.\n"
     ]
    }
   ],
   "source": [
    "# Helper code\n",
    "%pip install wget\n",
    "from pathlib import Path\n",
    "import wget\n",
    "import bz2\n",
    "\n",
    "\n",
    "def get_corpus_folder():\n",
    "    home = get_home_dir()\n",
    "    return  home + '/Teaching/IITMDS/Corpora/'\n",
    "\n",
    "def get_home_dir():\n",
    "    return str(Path.home())    \n",
    "\n",
    "\n",
    "def download_wiki(language_code, remote_url):\n",
    "    print('downloading...')\n",
    "    local_file = get_corpus_folder() + language_code + 'Wiki.bz2'\n",
    "    wget.download(remote_url, local_file)\n",
    "    print('Download Complete')\n",
    "    return local_file\n",
    "\n",
    "def download_file(language_code, remote_url):\n",
    "    print('Download started')\n",
    "    req = requests.get(remote_url)\n",
    " \n",
    "    # Split URL to get the file name\n",
    "    filename = remote_url.split('/')[-1]\n",
    "    local_file = get_corpus_folder() + filename\n",
    "\n",
    "    # Writing the file to the local file system\n",
    "    with open(local_file,'wb') as output_file:\n",
    "        output_file.write(req.content)\n",
    "        \n",
    "    print('Download Completed')\n",
    "    print(local_file)\n",
    "    return local_file\n",
    "    \n",
    "def uncompress_bz2(language_code, bz2_filename):\n",
    "    print('Uncompress started')\n",
    "    corpus_filename = get_corpus_folder() + language_code + 'Wiki.txt'\n",
    "    with bz2.open(bz2_filename, \"rb\") as f:\n",
    "        # Decompress data from file\n",
    "        content = f.read()\n",
    "        output = open(corpus_filename, 'w', encoding='utf-8')\n",
    "        output.write(content.decode(encoding='utf-8'))\n",
    "        f.close()\n",
    "    print('Completed')\n",
    "    return corpus_filename    \n"
   ]
  },
  {
   "cell_type": "markdown",
   "id": "ab104416-afdd-4a3d-8240-8b777650ae66",
   "metadata": {},
   "source": [
    "%pip install wiki_dump_reader\n",
    "\n",
    "from wiki_dump_reader import Cleaner, iterate\n",
    "from pathlib import Path\n",
    "import requests\n",
    "\n",
    "#https://github.com/CyberZHG/wiki-dump-reader\n",
    "#pip install wiki-dump-reader\n",
    "#Code adapted from https://github.com/CyberZHG/wiki-dump-reader\n",
    "def create_corpus_for_language(language_code):\n",
    "\n",
    "    # corpus_file = '<your_Folder/CorpusFileName.txt'\n",
    "    corpus_filename = get_corpus_folder() + language_code + 'Wiki.txt'\n",
    "    page_count = 0\n",
    "    cleaner = Cleaner()\n",
    "    with open(corpus_filename, 'w', encoding='utf-8') as output:\n",
    "       # for title, text in iterate('/LocationOfYourContent/XXwiki-latest-pages-articles.xml'):\n",
    "        for title, text in iterate(get_home_dir() + '/Downloads/' + language_code + 'wiki-latest-pages-articles.xml'):\n",
    "            text = cleaner.clean_text(text)\n",
    "            cleaned_text, links = cleaner.build_links(text)\n",
    "            output.write(title + '\\n' + cleaned_text + '\\n')\n",
    "            page_count += 1\n",
    "            if page_count % 50 == 0:\n",
    "                print('Pages dumped = ', page_count)\n",
    "            # For demo purposes, the execution is stopped after 5 pages\n",
    "            if page_count > 100:\n",
    "                break\n",
    "    output.close()\n",
    "\n",
    "\n",
    "language_code = 'bn'\n",
    "local_bz2_file = download_file('bn',\"https://dumps.wikimedia.org/bnwiki/latest/bnwiki-latest-pages-articles.xml.bz2\")\n",
    "uncompress_bz2(language_code, local_bz2_file)\n",
    "#create_corpus_for_language(language_code)\n",
    "#file = open(get_corpus_folder() + language_code + 'Wiki.txt','r', encoding='utf-8')\n",
    "#print(file.read())"
   ]
  },
  {
   "cell_type": "code",
   "execution_count": 4,
   "id": "57a16829-344e-46dc-8262-777ee0792bd2",
   "metadata": {},
   "outputs": [],
   "source": [
    "## Exrtaction of text from a json corpus\n",
    "### Corpus compiled in JSON format\n",
    "### JSON schema of full text documents of COVID Corpus\n",
    "### This JSON formated text is extracted from PDF files"
   ]
  },
  {
   "cell_type": "raw",
   "id": "a03fcae5-0a75-4503-844e-a8f9f723ee3f",
   "metadata": {},
   "source": [
    "\n",
    "{\n",
    "    \"paper_id\": <str>,                      # 40-character sha1 of the PDF\n",
    "    \"metadata\": {\n",
    "        \"title\": <str>,\n",
    "        \"authors\": [                        # list of author dicts, in order\n",
    "            {\n",
    "                \"first\": <str>,\n",
    "                \"middle\": <list of str>,\n",
    "                \"last\": <str>,\n",
    "                \"suffix\": <str>,\n",
    "                \"affiliation\": <dict>,\n",
    "                \"email\": <str>\n",
    "            },\n",
    "            ...\n",
    "        ],\n",
    "        \"abstract\": [                       # list of paragraphs in the abstract\n",
    "            {\n",
    "                \"text\": <str>,\n",
    "                \"cite_spans\": [             # list of character indices of inline citations\n",
    "                                            # e.g. citation \"[7]\" occurs at positions 151-154 in \"text\"\n",
    "                                            #      linked to bibliography entry BIBREF3\n",
    "                    {\n",
    "                        \"start\": 151,\n",
    "                        \"end\": 154,\n",
    "                        \"text\": \"[7]\",\n",
    "                        \"ref_id\": \"BIBREF3\"\n",
    "                    },\n",
    "                    ...\n",
    "                ],\n",
    "                \"ref_spans\": <list of dicts similar to cite_spans>,     # e.g. inline reference to \"Table 1\"\n",
    "                \"section\": \"Abstract\"\n",
    "            },\n",
    "            ...\n",
    "        ],\n",
    "        \"body_text\": [                      # list of paragraphs in full body\n",
    "                                            # paragraph dicts look the same as above\n",
    "            {\n",
    "                \"text\": <str>,\n",
    "                \"cite_spans\": [],\n",
    "                \"ref_spans\": [],\n",
    "                \"eq_spans\": [],\n",
    "                \"section\": \"Introduction\"\n",
    "            },\n",
    "            ...\n",
    "            {\n",
    "                ...,\n",
    "                \"section\": \"Conclusion\"\n",
    "            }\n",
    "        ],\n",
    "        \"bib_entries\": {\n",
    "            \"BIBREF0\": {\n",
    "                \"ref_id\": <str>,\n",
    "                \"title\": <str>,\n",
    "                \"authors\": <list of dict>       # same structure as earlier,\n",
    "                                                # but without `affiliation` or `email`\n",
    "                \"year\": <int>,\n",
    "                \"venue\": <str>,\n",
    "                \"volume\": <str>,\n",
    "                \"issn\": <str>,\n",
    "                \"pages\": <str>,\n",
    "                \"other_ids\": {\n",
    "                    \"DOI\": [\n",
    "                        <str>\n",
    "                    ]\n",
    "                }\n",
    "            },\n",
    "            \"BIBREF1\": {},\n",
    "            ...\n",
    "            \"BIBREF25\": {}\n",
    "        },\n",
    "        \"ref_entries\":\n",
    "            \"FIGREF0\": {\n",
    "                \"text\": <str>,                  # figure caption text\n",
    "                \"type\": \"figure\"\n",
    "            },\n",
    "            ...\n",
    "            \"TABREF13\": {\n",
    "                \"text\": <str>,                  # table caption text\n",
    "                \"type\": \"table\"\n",
    "            }\n",
    "        },\n",
    "        \"back_matter\": <list of dict>           # same structure as body_text\n",
    "    }"
   ]
  },
  {
   "cell_type": "markdown",
   "id": "2666e66e-2bc3-424c-9970-bd542896417c",
   "metadata": {},
   "source": [
    "### Code for extracting text from the JSON \n",
    "### the schema is given above"
   ]
  },
  {
   "cell_type": "code",
   "execution_count": 5,
   "id": "581e17da-c0dc-41e1-8ffb-4031247dd060",
   "metadata": {},
   "outputs": [],
   "source": [
    "import json\n",
    "\n",
    "\n",
    "def extract_text_from_json_file(filename):\n",
    "    '''\n",
    "    Extract the text from the file name (json file) and\n",
    "    index the content from paper_id, title, abstract and body_text fields\n",
    "    Retuns - text of title, abstract and bodt_text\n",
    "    '''\n",
    "\n",
    "    file = open(filename)\n",
    "    body_text = \"\"\n",
    "    abstract = \"\"\n",
    "    title = \"\"\n",
    "    paper_id = \"\"\n",
    "\n",
    "    paper_content = json.load(file)\n",
    "\n",
    "    #get the paper_id\n",
    "    if 'paper_id' in paper_content:\n",
    "        paper_id = paper_content['paper_id']\n",
    "        \n",
    "    #get the title, if available\n",
    "    if 'title' in paper_content['metadata']:\n",
    "        title = paper_content['metadata']['title']\n",
    "    #get abstract.text, if availabledef extract_text(filename):\n",
    "    '''\n",
    "    Extract the text from the file name (json file) and\n",
    "    index the content from paper_id, title, abstract and body_text fields\n",
    "    Retuns - text of title, abstract and bodt_text\n",
    "    '''\n",
    "\n",
    "    file = open(filename)\n",
    "    body_text = \"\"\n",
    "    abstract = \"\"\n",
    "    title = \"\"\n",
    "    paper_id = \"\"\n",
    "\n",
    "    paper_content = json.load(file)\n",
    "\n",
    "    #get the paper_id\n",
    "    if 'paper_id' in paper_content:\n",
    "        paper_id = paper_content['paper_id']\n",
    "        \n",
    "    #get the title, if available\n",
    "    if 'title' in paper_content['metadata']:\n",
    "        title = paper_content['metadata']['title']\n",
    "    #get abstract.text, i\n",
    "    if 'abstract' in paper_content:\n",
    "        for abs in paper_content['abstract']:\n",
    "            abstract = abstract + abs['text']\n",
    "    if 'body_text' in paper_content:\n",
    "        for bt in paper_content['body_text']:\n",
    "            body_text = body_text + bt['text']\n",
    "\n",
    "\n",
    "   \n",
    "    return (title + ' ' + abstract + ' ' + body_text + ' ').lower()"
   ]
  },
  {
   "cell_type": "code",
   "execution_count": 11,
   "id": "24f09ab8-85f5-475a-85f7-143525a63084",
   "metadata": {},
   "outputs": [],
   "source": [
    "from base64 import decode\n",
    "\n",
    "\n",
    "txt_dump = extract_text_from_json_file(get_corpus_folder()+'covid_paper_sample.json')\n",
    "\n",
    "f = open(get_corpus_folder() + 'sample.txt', 'w',encoding='utf-8')\n",
    "f.write(txt_dump)\n",
    "f.close()"
   ]
  },
  {
   "cell_type": "markdown",
   "id": "6c2a76b0-5f17-4ec2-afc1-177d7fac28b3",
   "metadata": {},
   "source": [
    "## Upload/read corpus \n"
   ]
  },
  {
   "cell_type": "code",
   "execution_count": 19,
   "id": "7043085c-fabb-4fd4-8245-2b543b20e741",
   "metadata": {},
   "outputs": [
    {
     "name": "stderr",
     "output_type": "stream",
     "text": [
      "[nltk_data] Downloading package punkt to\n",
      "[nltk_data]     C:\\Users\\Hayagreev\\AppData\\Roaming\\nltk_data...\n",
      "[nltk_data]   Package punkt is already up-to-date!\n"
     ]
    }
   ],
   "source": [
    "# read the corpus\n",
    "\n",
    "fd = open(get_corpus_folder() + 'covid19_partial.txt', encoding='utf-8' )\n",
    "covid19_corpus = fd.read()\n",
    "# Create tokens out of the corpus\n",
    "import nltk\n",
    "import re\n",
    "import string\n",
    "nltk.download('punkt')\n",
    "\n",
    "#remove numbers\n",
    "pp_text = re.sub(r'\\d+', '', covid19_corpus)\n",
    "\n",
    "#tokenize\n",
    "tokens = nltk.word_tokenize(pp_text)"
   ]
  },
  {
   "cell_type": "markdown",
   "id": "3708b262-c2d1-40f0-ac92-488367e7e020",
   "metadata": {},
   "source": [
    "## Counting\n",
    "### Number of Tokens in the Corpus"
   ]
  },
  {
   "cell_type": "code",
   "execution_count": 20,
   "id": "3693cc11-2589-4f0e-82c0-1c4ea56b3b57",
   "metadata": {},
   "outputs": [
    {
     "name": "stdout",
     "output_type": "stream",
     "text": [
      "Total number of tokens is 167474\n"
     ]
    }
   ],
   "source": [
    "number_of_tokens = len(tokens)\n",
    "print('Total number of tokens is {}'.format(number_of_tokens))"
   ]
  },
  {
   "cell_type": "markdown",
   "id": "e8e73aa3-33bf-47fa-9e45-8e398a6c1866",
   "metadata": {},
   "source": [
    "## Vocabulary of the corpus\n"
   ]
  },
  {
   "cell_type": "code",
   "execution_count": 21,
   "id": "a6e2edb5-7404-4f63-b7c5-235c52dd4b21",
   "metadata": {},
   "outputs": [
    {
     "name": "stdout",
     "output_type": "stream",
     "text": [
      "The number of words in the vocabulary is 8841\n"
     ]
    }
   ],
   "source": [
    "vocabulary = list(set(tokens))\n",
    "print('The number of words in the vocabulary is {}'.format(len(vocabulary)))"
   ]
  },
  {
   "cell_type": "markdown",
   "id": "e7368b34-d8bf-43bc-87b7-46e7d8b25be0",
   "metadata": {},
   "source": [
    "## Frequency of words\n"
   ]
  },
  {
   "cell_type": "code",
   "execution_count": 22,
   "id": "d1f9d113-f948-4600-9198-582082fc867d",
   "metadata": {},
   "outputs": [],
   "source": [
    "from collections import Counter\n",
    "\n",
    "token_frequency = Counter()\n",
    "token_frequency.update(Counter(tokens))"
   ]
  },
  {
   "cell_type": "code",
   "execution_count": 23,
   "id": "e4a545af-0575-4063-bb58-59f0e8a8b453",
   "metadata": {},
   "outputs": [
    {
     "data": {
      "text/plain": [
       "[('the', 9138),\n",
       " ('of', 6176),\n",
       " ('and', 5398),\n",
       " ('to', 3884),\n",
       " ('in', 3866),\n",
       " ('a', 2732),\n",
       " ('for', 1756),\n",
       " ('with', 1656),\n",
       " ('is', 1564),\n",
       " ('as', 1258),\n",
       " ('that', 1120),\n",
       " ('are', 1096),\n",
       " ('be', 1096),\n",
       " ('were', 1076),\n",
       " ('was', 980),\n",
       " ('by', 936),\n",
       " ('on', 922),\n",
       " ('this', 830),\n",
       " ('or', 826),\n",
       " ('at', 740)]"
      ]
     },
     "execution_count": 23,
     "metadata": {},
     "output_type": "execute_result"
    }
   ],
   "source": [
    "# print top 20 high frequency words\n",
    "token_frequency.most_common()[:20]"
   ]
  },
  {
   "cell_type": "code",
   "execution_count": 24,
   "id": "f944ad86-a9e0-47b4-83b3-6253780cc424",
   "metadata": {},
   "outputs": [
    {
     "data": {
      "text/plain": [
       "[('roche', 2),\n",
       " ('saponin', 2),\n",
       " ('applying', 2),\n",
       " ('proceed', 2),\n",
       " ('digested', 2),\n",
       " ('tryptic', 2),\n",
       " ('lc-msms', 2),\n",
       " ('calculate', 2),\n",
       " ('differed', 2),\n",
       " ('org', 2),\n",
       " ('panther', 2),\n",
       " ('evolutionary', 2),\n",
       " ('somewhat', 2),\n",
       " ('cyt-', 2),\n",
       " ('apparatus-', 2),\n",
       " ('mitochondrial-and', 2),\n",
       " ('endosomal-localized', 2),\n",
       " ('organelles', 2),\n",
       " ('annotated', 2),\n",
       " ('depleted', 2)]"
      ]
     },
     "execution_count": 24,
     "metadata": {},
     "output_type": "execute_result"
    }
   ],
   "source": [
    "# print 20 low frequency words\n",
    "token_frequency.most_common()[-21:-1]"
   ]
  },
  {
   "cell_type": "markdown",
   "id": "deb8a76c-ca90-4c8e-8f8a-8368a0bc668f",
   "metadata": {},
   "source": [
    "## Heaps Law\n",
    "\n",
    "### The estimated vocabulary size is proportional to the total number of tokens in the corpus\n",
    "$$\\begin{align}\n",
    "M &\\propto T^{\\beta}\\\\ \n",
    "M &= \\kappa T^\\beta\\ \\end{align}$$\n",
    "\n",
    "### We can rewrite the above equation as\n",
    "$$\\begin{align}\n",
    "\\log(M) &= \\log(\\kappa) + \\beta \\times \\log(T) \\end{align}$$\n",
    "\n",
    "### where  is the estimated vocabulary,  is the total number of tokens and  is a constant.  is usually between  and \n",
    "### If you consider two words whose frequency and rank are known. \n",
    "### Is it possible to find the alpha value?\n",
    "#"
   ]
  },
  {
   "cell_type": "markdown",
   "id": "6fac4690-1c83-47bb-b42e-8d57c72afb5a",
   "metadata": {},
   "source": [
    "### Find out vocabulary for every 1000 words\n",
    "### Divide the entire tokens in to a list of 1000 word tokens"
   ]
  },
  {
   "cell_type": "code",
   "execution_count": 25,
   "id": "a91a3227-58ff-4b10-9047-6b3f6c0b0a1e",
   "metadata": {},
   "outputs": [
    {
     "name": "stdout",
     "output_type": "stream",
     "text": [
      "Token_count: 167474\n",
      "Vocab_count: 8841\n"
     ]
    }
   ],
   "source": [
    "vocabulary = {}\n",
    "token_count = 0\n",
    "vocab_count = 0\n",
    "\n",
    "token_list=[]\n",
    "vocab_list=[]\n",
    "\n",
    "for token in tokens:\n",
    "    if token in vocabulary:\n",
    "        vocabulary[token] += 1\n",
    "        token_count +=1\n",
    "    else:\n",
    "        vocabulary[token] = 1\n",
    "        token_count +=1\n",
    "        vocab_count +=1\n",
    "\n",
    "    if token_count%1000==0:\n",
    "        token_list.append(token_count)\n",
    "        vocab_list.append(vocab_count)\n",
    "\n",
    "print('Token_count:', token_count)\n",
    "print('Vocab_count:', vocab_count)"
   ]
  },
  {
   "cell_type": "markdown",
   "id": "2b8ce091-ae21-40e0-93a1-1ac6b454f54d",
   "metadata": {},
   "source": [
    "### To find $\\beta$ and $k$, convert the list into log values"
   ]
  },
  {
   "cell_type": "code",
   "execution_count": 26,
   "id": "8fdf7951-b56f-4082-a1dd-36f59b18f2c6",
   "metadata": {},
   "outputs": [],
   "source": [
    "import numpy as np\n",
    "log_t = np.log(token_list)\n",
    "log_v = np.log(vocab_list)"
   ]
  },
  {
   "cell_type": "markdown",
   "id": "613159dd-5a20-4fcf-8ba8-38e0a503334a",
   "metadata": {},
   "source": [
    "### To demonstrate, we use the first two values for the estimation of $\\beta$ and $k$"
   ]
  },
  {
   "cell_type": "code",
   "execution_count": 27,
   "id": "f40d8960-b070-4c24-95a0-d143c338ba24",
   "metadata": {},
   "outputs": [
    {
     "name": "stdout",
     "output_type": "stream",
     "text": [
      "b =  0.6978158404110515 , log(k) =  1.1224583197699038\n"
     ]
    }
   ],
   "source": [
    "b = (log_v[1] - log_v[0]) / (log_t[1] - log_t[0])\n",
    "log_k = log_v[1] - b * log_t[1]\n",
    "\n",
    "print(\"b = \", b,\", log(k) = \",log_k)"
   ]
  },
  {
   "cell_type": "markdown",
   "id": "ae38031f-0862-4993-9368-f1dedc396c87",
   "metadata": {},
   "source": [
    "### Now, estimate the vocabulary using Heap's law\n"
   ]
  },
  {
   "cell_type": "code",
   "execution_count": 29,
   "id": "633087eb-872d-4a70-83c4-fe1d129e8232",
   "metadata": {},
   "outputs": [],
   "source": [
    "heaps_vocab_estimate = []\n",
    "\n",
    "for i in log_t:\n",
    "    heaps_vocab_estimate.append(log_k + b * i)"
   ]
  },
  {
   "cell_type": "code",
   "execution_count": 33,
   "id": "92706481-9c2d-4e6b-bd16-487819b47858",
   "metadata": {},
   "outputs": [
    {
     "name": "stdout",
     "output_type": "stream",
     "text": [
      "Requirement already satisfied: matplotlib in c:\\users\\hayagreev\\appdata\\local\\programs\\python\\python310\\lib\\site-packages (3.5.3)\n",
      "Requirement already satisfied: pillow>=6.2.0 in c:\\users\\hayagreev\\appdata\\local\\programs\\python\\python310\\lib\\site-packages (from matplotlib) (9.1.0)\n",
      "Requirement already satisfied: cycler>=0.10 in c:\\users\\hayagreev\\appdata\\local\\programs\\python\\python310\\lib\\site-packages (from matplotlib) (0.11.0)\n",
      "Requirement already satisfied: python-dateutil>=2.7 in c:\\users\\hayagreev\\appdata\\local\\programs\\python\\python310\\lib\\site-packages (from matplotlib) (2.8.2)\n",
      "Requirement already satisfied: pyparsing>=2.2.1 in c:\\users\\hayagreev\\appdata\\local\\programs\\python\\python310\\lib\\site-packages (from matplotlib) (3.0.8)\n",
      "Requirement already satisfied: numpy>=1.17 in c:\\users\\hayagreev\\appdata\\local\\programs\\python\\python310\\lib\\site-packages (from matplotlib) (1.22.3)\n",
      "Requirement already satisfied: fonttools>=4.22.0 in c:\\users\\hayagreev\\appdata\\local\\programs\\python\\python310\\lib\\site-packages (from matplotlib) (4.36.0)\n",
      "Requirement already satisfied: packaging>=20.0 in c:\\users\\hayagreev\\appdata\\local\\programs\\python\\python310\\lib\\site-packages (from matplotlib) (21.3)\n",
      "Requirement already satisfied: kiwisolver>=1.0.1 in c:\\users\\hayagreev\\appdata\\local\\programs\\python\\python310\\lib\\site-packages (from matplotlib) (1.4.4)\n",
      "Requirement already satisfied: six>=1.5 in c:\\users\\hayagreev\\appdata\\local\\programs\\python\\python310\\lib\\site-packages (from python-dateutil>=2.7->matplotlib) (1.16.0)\n",
      "Note: you may need to restart the kernel to use updated packages.\n"
     ]
    },
    {
     "name": "stderr",
     "output_type": "stream",
     "text": [
      "WARNING: There was an error checking the latest version of pip.\n"
     ]
    },
    {
     "data": {
      "image/png": "[encoded data removed]",
      "text/plain": [
       "<Figure size 1440x720 with 1 Axes>"
      ]
     },
     "metadata": {
      "needs_background": "light"
     },
     "output_type": "display_data"
    }
   ],
   "source": [
    "%pip install matplotlib  \n",
    "import matplotlib.pyplot as plt\n",
    "\n",
    "plt.rcParams[\"figure.figsize\"] = (20,10)\n",
    "\n",
    "plt.plot(log_t, log_v, label = \"Actual\")\n",
    "plt.plot(log_t, heaps_vocab_estimate, label = \"Estimated\", linestyle='dashdot')\n",
    "plt.xlabel(\"Log of token count\")\n",
    "plt.ylabel(\"Log of vocabulary count\")\n",
    "plt.title(\"Plot to show actual and estimated vocabulary counts\")\n",
    "\n",
    "plt.legend()\n",
    "\n",
    "plt.show()"
   ]
  },
  {
   "cell_type": "markdown",
   "id": "59836362-dde2-4930-b7c2-e1817b34a0cf",
   "metadata": {},
   "source": [
    "### Application of Heaps Law\n"
   ]
  },
  {
   "cell_type": "code",
   "execution_count": 36,
   "id": "42b6b2b2-6206-4fb9-8f52-dd7e07fa5c5d",
   "metadata": {},
   "outputs": [
    {
     "name": "stderr",
     "output_type": "stream",
     "text": [
      "[nltk_data] Downloading package stopwords to\n",
      "[nltk_data]     C:\\Users\\Hayagreev\\AppData\\Roaming\\nltk_data...\n",
      "[nltk_data]   Unzipping corpora\\stopwords.zip.\n",
      "[nltk_data] Downloading package gutenberg to\n",
      "[nltk_data]     C:\\Users\\Hayagreev\\AppData\\Roaming\\nltk_data...\n",
      "[nltk_data]   Unzipping corpora\\gutenberg.zip.\n"
     ]
    },
    {
     "data": {
      "text/plain": [
       "True"
      ]
     },
     "execution_count": 36,
     "metadata": {},
     "output_type": "execute_result"
    }
   ],
   "source": [
    "import nltk\n",
    "nltk.download('stopwords')\n",
    "nltk.download('gutenberg')"
   ]
  },
  {
   "cell_type": "code",
   "execution_count": 37,
   "id": "45be82d3-22b6-458f-b6e7-231da8f7e33c",
   "metadata": {},
   "outputs": [
    {
     "name": "stdout",
     "output_type": "stream",
     "text": [
      "Number of tokens, Vocabulary, Type-token ratio (Bryant stories) =  15000 2796 0.1864\n",
      "Number of tokens, Vocabulary, Type-token ratio (Jane Austen Emma) =  15000 3274 0.21826666666666666\n"
     ]
    }
   ],
   "source": [
    "from nltk.corpus import stopwords\n",
    "#get the stop words for English\n",
    "stop_words = set(stopwords.words('english'))\n",
    "words_bryant = nltk.Text(nltk.corpus.gutenberg.words('bryant-stories.txt'))\n",
    "words_emma = nltk.Text(nltk.corpus.gutenberg.words('austen-emma.txt'))\n",
    "#convert to small letters\n",
    "words_bryant = [word.lower() for word in words_bryant if word.isalpha()]\n",
    "words_emma = [word.lower() for word in words_emma if word.isalpha()]\n",
    "#remove stop words\n",
    "words_bryant = [word.lower() for word in words_bryant if word not in stop_words][:15000]\n",
    "words_emma = [word.lower() for word in words_emma if word not in stop_words][:15000]\n",
    "TTR_bryant = len(set(words_bryant))/len(words_bryant)\n",
    "TTR_emma = len(set(words_emma))/len(words_emma)\n",
    "print('Number of tokens, Vocabulary, Type-token ratio (Bryant stories) = ', len(words_bryant), len(set(words_bryant)), TTR_bryant)\n",
    "print('Number of tokens, Vocabulary, Type-token ratio (Jane Austen Emma) = ', len(words_emma), len(set(words_emma)), TTR_emma)"
   ]
  },
  {
   "cell_type": "markdown",
   "id": "5a120db5-5cd3-486a-9594-b70f6fb8a845",
   "metadata": {},
   "source": [
    "\n",
    "### According to Zipf's law, the frequency of the word is inversely proportional to its rank.\n",
    "#### $$\\begin{align}\n",
    "f_w &\\propto \\frac{1}{r^{\\alpha}} \\\\ \n",
    "f_w &= \\kappa \\frac{1}{r^{\\alpha}}\\\\ \n",
    "f_w\\times r^{\\alpha} &= \\kappa \\end{align}$$\n",
    "\n",
    "where $\\kappa$ is a constant,  $f$ is the frequency of a word, and $r$ is its rank.\n",
    "Here $\\alpha$ is usually between 0.9 and 1.0\n",
    "#"
   ]
  },
  {
   "cell_type": "code",
   "execution_count": 38,
   "id": "0e3c23df-73cd-471d-b191-58ea1720ff7b",
   "metadata": {},
   "outputs": [],
   "source": [
    "### Plotting the frequency and rank\n"
   ]
  },
  {
   "cell_type": "code",
   "execution_count": 39,
   "id": "981e1e1b-4007-4c0a-9f76-4549f097ae0f",
   "metadata": {},
   "outputs": [
    {
     "data": {
      "image/png": "[encoded data removed]",
      "text/plain": [
       "<Figure size 1440x720 with 1 Axes>"
      ]
     },
     "metadata": {
      "needs_background": "light"
     },
     "output_type": "display_data"
    }
   ],
   "source": [
    "from operator import itemgetter\n",
    "v = {}\n",
    "for key, value in reversed(sorted(token_frequency.items(), key = itemgetter(1))):\n",
    "    v[key] = value\n",
    "    \n",
    "# Plotting Zipf's Law\n",
    "import matplotlib.pyplot as plt\n",
    "import math\n",
    "\n",
    "#Getting the values needed to plot\n",
    "#You may use the RHS values in the plotting function directly\n",
    "n = len(v.keys())\n",
    "y = list(v.values())\n",
    "x = list(range(1, n+1))\n",
    " \n",
    "plt.plot(x, y)\n",
    " \n",
    "#choosing log scale\n",
    "plt.rcParams[\"figure.figsize\"] = (20,10)\n",
    "\n",
    "plt.yscale(\"log\")\n",
    "plt.xscale(\"log\")\n",
    "\n",
    "# naming the x axis\n",
    "plt.ylabel('log(frequency)')\n",
    "# naming the y axis\n",
    "plt.xlabel('log(rank)')\n",
    " \n",
    "\n",
    "plt.title(\"Zipf's Law: Rank vs Frequency graph\")\n",
    "\n",
    "#If you want to save the plot, use the next instruction\n",
    "#plt.savefig(\"zipfs190522.png\") \n",
    "\n",
    "# function to show the plot\n",
    "plt.show()"
   ]
  },
  {
   "cell_type": "markdown",
   "id": "8c5038c1-ab63-42cd-a91f-01d1c2a3ab69",
   "metadata": {},
   "source": [
    "### Exercise for you to try. How do you estimate the $\\alpha$ value using the drequency and rank?\n",
    "Hint: $k$ is a constant :)"
   ]
  },
  {
   "cell_type": "markdown",
   "id": "b9e9fd02-9497-4c7b-aad4-ce10808fae18",
   "metadata": {},
   "source": [
    "### Term frequency\n"
   ]
  },
  {
   "cell_type": "code",
   "execution_count": 41,
   "id": "16b2cba9-d6d4-4e76-bc89-3241b9ba1137",
   "metadata": {},
   "outputs": [
    {
     "data": {
      "text/plain": [
       "[('the', 0.05456369346883695),\n",
       " ('first', 0.0009076035683150817),\n",
       " ('step', 0.00011942152214672128),\n",
       " ('in', 0.023084180230961225),\n",
       " ('fighting', 8.359506550270489e-05),\n",
       " ('epidemic', 0.00011942152214672128),\n",
       " ('was', 0.005851654585189343),\n",
       " ('nationwide', 9.553721771737702e-05),\n",
       " ('lock', 2.3884304429344255e-05),\n",
       " ('down', 0.00011942152214672128),\n",
       " ('on', 0.0055053321709638515),\n",
       " ('march', 0.00023884304429344256),\n",
       " ('th', 0.000465743936372213),\n",
       " ('such', 0.001862975745488852),\n",
       " ('a', 0.016312979925242128)]"
      ]
     },
     "execution_count": 41,
     "metadata": {},
     "output_type": "execute_result"
    }
   ],
   "source": [
    "normalized_tf = {key: value/number_of_tokens for key, value in token_frequency.items()}\n",
    "list(normalized_tf.items())[:15]"
   ]
  },
  {
   "cell_type": "markdown",
   "id": "798ecae7-5954-4c6a-8ca4-b2be8ce51156",
   "metadata": {},
   "source": [
    "## Lemmatization\n",
    "### Uses context to convert word into a meaningful form :)"
   ]
  },
  {
   "cell_type": "code",
   "execution_count": 45,
   "id": "39ab2138-be3d-4d77-a79f-4e11c1b1a8ec",
   "metadata": {},
   "outputs": [
    {
     "name": "stderr",
     "output_type": "stream",
     "text": [
      "[nltk_data] Downloading package wordnet to\n",
      "[nltk_data]     C:\\Users\\Hayagreev\\AppData\\Roaming\\nltk_data...\n",
      "[nltk_data]   Package wordnet is already up-to-date!\n",
      "[nltk_data] Downloading package omw-1.4 to\n",
      "[nltk_data]     C:\\Users\\Hayagreev\\AppData\\Roaming\\nltk_data...\n"
     ]
    },
    {
     "data": {
      "text/plain": [
       "[('was', 'wa'),\n",
       " ('results', 'result'),\n",
       " ('has', 'ha'),\n",
       " ('surgeons', 'surgeon'),\n",
       " ('hospitals', 'hospital'),\n",
       " ('studies', 'study'),\n",
       " ('diseases', 'disease'),\n",
       " ('patients', 'patient'),\n",
       " ('emergencies', 'emergency'),\n",
       " ('malignancies', 'malignancy'),\n",
       " ('pathologies', 'pathology'),\n",
       " ('infections', 'infection'),\n",
       " ('departments', 'department'),\n",
       " ('disorders', 'disorder'),\n",
       " ('lesions', 'lesion')]"
      ]
     },
     "execution_count": 45,
     "metadata": {},
     "output_type": "execute_result"
    }
   ],
   "source": [
    "import nltk\n",
    "nltk.download('wordnet')\n",
    "nltk.download('omw-1.4') # open multi-lingual wordnet\n",
    "from nltk import WordNetLemmatizer\n",
    "\n",
    "# Function to lemmatize the corpus and return lemmatized words (original and the lemmatized)\n",
    "def lemmatizer(s):\n",
    "\n",
    "    \n",
    "    #Initialize the lemmatizer\n",
    "    lemmatize = WordNetLemmatizer()\n",
    "    \n",
    "    #store the stemmed words in the dictionary\n",
    "    lem_tokens = {}\n",
    "    \n",
    "    # Lemmatize all tokens\n",
    "    for token in tokens:\n",
    "        lem_token = lemmatize.lemmatize(token)\n",
    "        if lem_token != token:\n",
    "            lem_tokens[token] = lem_token\n",
    "    return lem_tokens\n",
    "\n",
    "lemmatized_tokens = lemmatizer(covid19_corpus)\n",
    "\n",
    "# List N lemmatized tokens\n",
    "list(lemmatized_tokens.items())[:15]"
   ]
  },
  {
   "cell_type": "markdown",
   "id": "6d72d35c-ee65-44aa-9f20-c6ff36ee1478",
   "metadata": {},
   "source": [
    "## Stemming\n",
    "### Algorithm to Remove suffixes"
   ]
  },
  {
   "cell_type": "code",
   "execution_count": 46,
   "id": "1edfeb9f-ec59-4b5b-be37-5f0cf0200223",
   "metadata": {},
   "outputs": [
    {
     "data": {
      "text/plain": [
       "[('according', 'accord'),\n",
       " ('statistics', 'statist'),\n",
       " ('editing', 'edit'),\n",
       " ('country', 'countri'),\n",
       " ('affected', 'affect'),\n",
       " ('cases', 'case'),\n",
       " ('rates', 'rate'),\n",
       " ('rising', 'rise'),\n",
       " ('remains', 'remain'),\n",
       " ('position', 'posit'),\n",
       " ('advantage', 'advantag'),\n",
       " ('since', 'sinc'),\n",
       " ('worldwide', 'worldwid'),\n",
       " ('multidisciplinary', 'multidisciplinari'),\n",
       " ('repurposed', 'repurpos')]"
      ]
     },
     "execution_count": 46,
     "metadata": {},
     "output_type": "execute_result"
    }
   ],
   "source": [
    "from nltk.stem import PorterStemmer\n",
    "\n",
    "def stemmer(s):\n",
    "\n",
    "    #initialize the Porter Stemmer\n",
    "    ps = PorterStemmer()\n",
    "\n",
    "    #store all the stemmed tokens in this dictionary\n",
    "    stemmed_tokens = {}\n",
    "    \n",
    "    # stem all tokens\n",
    "    for token in tokens:\n",
    "        stemmed_token = ps.stem(token)\n",
    "        if stemmed_token != token:\n",
    "            stemmed_tokens[token] = stemmed_token\n",
    "    return stemmed_tokens\n",
    "\n",
    "stem_tokens = stemmer(tokens)\n",
    "\n",
    "list(stem_tokens.items())[100:115]"
   ]
  },
  {
   "cell_type": "markdown",
   "id": "138cf1ce-a8cb-4641-9c44-3fbbaa900dba",
   "metadata": {},
   "source": []
  },
  {
   "cell_type": "code",
   "execution_count": null,
   "id": "43b5c46e-0f28-465a-943d-eeca93c73ebf",
   "metadata": {},
   "outputs": [],
   "source": []
  }
 ],
 "metadata": {
  "kernelspec": {
   "display_name": "Python 3 (ipykernel)",
   "language": "python",
   "name": "python3"
  },
  "language_info": {
   "codemirror_mode": {
    "name": "ipython",
    "version": 3
   },
   "file_extension": ".py",
   "mimetype": "text/x-python",
   "name": "python",
   "nbconvert_exporter": "python",
   "pygments_lexer": "ipython3",
   "version": "3.10.0"
  },
  "vscode": {
   "interpreter": {
    "hash": "f637829467794aff9fd82023e4db8aff997e8bf1c51aa5b4002f786773a0252b"
   }
  }
 },
 "nbformat": 4,
 "nbformat_minor": 5
}
